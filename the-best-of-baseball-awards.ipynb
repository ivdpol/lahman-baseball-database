{
 "cells": [
  {
   "cell_type": "markdown",
   "id": "82e9d206",
   "metadata": {},
   "source": [
    "# The Best Of Baseball Awards\n",
    "\n",
    "Welcome! In this project we will analyze baseball statistics from 1871 to 2019. This project uses PostgreSQL, Python, and Jupyter notebook. We connect Python to our PostgreSQL database using the SQLAlchemy package for Python.\n",
    "\n",
    "We use an open-source database, copyright 1996-2023 by Sean Lahman, licensed under a Creative Commons Attribution-ShareAlike 3.0 Unported License. \n",
    "\n",
    "The setup for this project was provided by Codecademy.\n",
    "\n",
    "We use the following tables:\n",
    "\n",
    "  People - player names, DOB, and biographical info  \n",
    "  Batting - batting statistics  \n",
    "  Pitching - pitching statistics  \n",
    "  Fielding - fielding statistics \n",
    "  \n",
    "Let us first import the relevant packages and settings and have a look at the data."
   ]
  },
  {
   "cell_type": "code",
   "execution_count": 1,
   "id": "8f049c8c",
   "metadata": {},
   "outputs": [
    {
     "data": {
      "text/html": [
       "<style>pre { white-space: pre !important; }</style>"
      ],
      "text/plain": [
       "<IPython.core.display.HTML object>"
      ]
     },
     "metadata": {},
     "output_type": "display_data"
    }
   ],
   "source": [
    "import pandas as pd\n",
    "import psycopg2 as ps\n",
    "import sqlalchemy as sa\n",
    "from sqlalchemy import create_engine\n",
    "from IPython.display import display, HTML\n",
    "\n",
    "engine = create_engine('postgresql+psycopg2://iris@localhost:5432/baseball')\n",
    "\n",
    #"pd.set_option('display.width', 400)\n",
    "\n",
    #"display(HTML(\"<style>pre { white-space: pre !important; }</style>\"))"
   ]
  },
  {
   "cell_type": "code",
   "execution_count": 2,
   "id": "014e32c7",
   "metadata": {},
   "outputs": [
    {
     "name": "stdout",
     "output_type": "stream",
     "text": [
      "        playerid  birthyear  birthmonth  birthday birthcountry birthstate      birthcity  deathyear  deathmonth  deathday  ... bats throws       debut   finalgame   retroid    bbrefid  birth_date  debut_date finalgame_date  death_date\n",
      "0      aardsda01     1981.0        12.0      27.0          USA         CO         Denver        NaN         NaN       NaN  ...    R      R  2004-04-06  2015-08-23  aardd001  aardsda01  1981-12-27  2004-04-06     2015-08-23        None\n",
      "1      aaronha01     1934.0         2.0       5.0          USA         AL         Mobile        NaN         NaN       NaN  ...    R      R  1954-04-13  1976-10-03  aaroh101  aaronha01  1934-02-05  1954-04-13     1976-10-03        None\n",
      "2      aaronto01     1939.0         8.0       5.0          USA         AL         Mobile     1984.0         8.0      16.0  ...    R      R  1962-04-10  1971-09-26  aarot101  aaronto01  1939-08-05  1962-04-10     1971-09-26  1984-08-16\n",
      "3       aasedo01     1954.0         9.0       8.0          USA         CA         Orange        NaN         NaN       NaN  ...    R      R  1977-07-26  1990-10-03  aased001   aasedo01  1954-09-08  1977-07-26     1990-10-03        None\n",
      "4       abadan01     1972.0         8.0      25.0          USA         FL     Palm Beach        NaN         NaN       NaN  ...    L      L  2001-09-10  2006-04-13  abada001   abadan01  1972-08-25  2001-09-10     2006-04-13        None\n",
      "...          ...        ...         ...       ...          ...        ...            ...        ...         ...       ...  ...  ...    ...         ...         ...       ...        ...         ...         ...            ...         ...\n",
      "19873   zupofr01     1939.0         8.0      29.0          USA         CA  San Francisco     2005.0         3.0      25.0  ...    L      R  1957-07-01  1961-05-09  zupof101   zupofr01  1939-08-29  1957-07-01     1961-05-09  2005-03-25\n",
      "19874  zuvelpa01     1958.0        10.0      31.0          USA         CA      San Mateo        NaN         NaN       NaN  ...    R      R  1982-09-04  1991-05-02  zuvep001  zuvelpa01  1958-10-31  1982-09-04     1991-05-02        None\n",
      "19875  zuverge01     1924.0         8.0      20.0          USA         MI        Holland     2014.0         9.0       8.0  ...    R      R  1951-04-21  1959-06-15  zuveg101  zuverge01  1924-08-20  1951-04-21     1959-06-15  2014-09-08\n",
      "19876  zwilldu01     1888.0        11.0       2.0          USA         MO      St. Louis     1978.0         3.0      27.0  ...    L      L  1910-08-14  1916-07-12  zwild101  zwilldu01  1888-11-02  1910-08-14     1916-07-12  1978-03-27\n",
      "19877   zychto01     1990.0         8.0       7.0          USA         IL          Monee        NaN         NaN       NaN  ...    R      R  2015-09-04  2017-08-19  zycht001   zychto01  1990-08-07  2015-09-04     2017-08-19        None\n",
      "\n",
      "[19878 rows x 28 columns]\n"
     ]
    }
   ],
   "source": [
    "sql_people_df = pd.read_sql(\n",
    "    \"SELECT * FROM people\",\n",
    "    con=engine,\n",
    ")\n",
    "print(sql_people_df)"
   ]
  },
  {
   "cell_type": "code",
   "execution_count": 3,
   "id": "1d7e2e0a",
   "metadata": {
    "scrolled": true
   },
   "outputs": [
    {
     "name": "stdout",
     "output_type": "stream",
     "text": [
      "            id   playerid  yearid  stint teamid  team_id lgid   g g_batting   ab  ...   rbi   sb   cs  bb    so  ibb  hbp   sh   sf  gidp\n",
      "0            1  abercda01    1871      1    TRO        8   NA   1      None    4  ...   0.0  0.0  0.0   0   0.0  NaN  NaN  NaN  NaN   0.0\n",
      "1            2   addybo01    1871      1    RC1        7   NA  25      None  118  ...  13.0  8.0  1.0   4   0.0  NaN  NaN  NaN  NaN   0.0\n",
      "2            3  allisar01    1871      1    CL1        3   NA  29      None  137  ...  19.0  3.0  1.0   2   5.0  NaN  NaN  NaN  NaN   1.0\n",
      "3            4  allisdo01    1871      1    WS3        9   NA  27      None  133  ...  27.0  1.0  1.0   0   2.0  NaN  NaN  NaN  NaN   0.0\n",
      "4            5  ansonca01    1871      1    RC1        7   NA  25      None  120  ...  16.0  6.0  2.0   2   1.0  NaN  NaN  NaN  NaN   0.0\n",
      "...        ...        ...     ...    ...    ...      ...  ...  ..       ...  ...  ...   ...  ...  ...  ..   ...  ...  ...  ...  ...   ...\n",
      "107424  107425  zimmejo02    2019      1    DET     2905   AL  23      None    2  ...   0.0  0.0  0.0   0   2.0  0.0  0.0  0.0  0.0   0.0\n",
      "107425  107426  zimmeky01    2019      1    KCA     2907   AL  15      None    0  ...   0.0  0.0  0.0   0   0.0  0.0  0.0  0.0  0.0   0.0\n",
      "107426  107427  zimmery01    2019      1    WAS     2925   NL  52      None  171  ...  27.0  0.0  0.0  17  39.0  0.0  0.0  0.0  2.0   4.0\n",
      "107427  107428  zobribe01    2019      1    CHN     2901   NL  47      None  150  ...  17.0  0.0  0.0  23  24.0  0.0  1.0  0.0  2.0   6.0\n",
      "107428  107429  zuninmi01    2019      1    TBA     2922   AL  90      None  266  ...  32.0  0.0  0.0  20  98.0  0.0  3.0  0.0  0.0   4.0\n",
      "\n",
      "[107429 rows x 25 columns]\n"
     ]
    }
   ],
   "source": [
    "sql_batting_df = pd.read_sql(\n",
    "    \"SELECT * FROM batting\",\n",
    "    con=engine,\n",
    ")\n",
    "print(sql_batting_df)"
   ]
  },
  {
   "cell_type": "code",
   "execution_count": 4,
   "id": "b105358a",
   "metadata": {},
   "outputs": [
    {
     "name": "stdout",
     "output_type": "stream",
     "text": [
      "          id   playerid  yearid  stint teamid  team_id lgid   w   l   g  ...  ibb  wp  hbp  bk     bfp  gf    r   sh   sf  gidp\n",
      "0          1  bechtge01    1871      1    PH1        6   NA   1   2   3  ...  NaN   7  NaN   0   146.0   0   42  NaN  NaN   NaN\n",
      "1          2  brainas01    1871      1    WS3        9   NA  12  15  30  ...  NaN   7  NaN   0  1291.0   0  292  NaN  NaN   NaN\n",
      "2          3  fergubo01    1871      1    NY2        5   NA   0   0   1  ...  NaN   2  NaN   0    14.0   0    9  NaN  NaN   NaN\n",
      "3          4  fishech01    1871      1    RC1        7   NA   4  16  24  ...  NaN  20  NaN   0  1080.0   1  257  NaN  NaN   NaN\n",
      "4          5  fleetfr01    1871      1    NY2        5   NA   0   1   1  ...  NaN   0  NaN   0    57.0   0   21  NaN  NaN   NaN\n",
      "...      ...        ...     ...    ...    ...      ...  ...  ..  ..  ..  ...  ...  ..  ...  ..     ...  ..  ...  ...  ...   ...\n",
      "47623  47624  zamorda01    2019      1    NYN     2914   NL   0   1  17  ...  1.0   0  1.0   0    41.0   3    5  0.0  1.0   0.0\n",
      "47624  47625  zeuchtj01    2019      1    TOR     2924   AL   1   2   5  ...  0.0   2  0.0   0    99.0   0   13  0.0  0.0   1.0\n",
      "47625  47626  zimmejo02    2019      1    DET     2905   AL   1  13  23  ...  2.0   3  6.0   0   504.0   0   89  3.0  4.0   5.0\n",
      "47626  47627  zimmeky01    2019      1    KCA     2907   AL   0   1  15  ...  0.0   2  0.0   0   102.0   3   22  0.0  0.0   1.0\n",
      "47627  47628  zobribe01    2019      1    CHN     2901   NL   0   0   1  ...  0.0   0  0.0   0     5.0   1    0  0.0  0.0   0.0\n",
      "\n",
      "[47628 rows x 32 columns]\n"
     ]
    }
   ],
   "source": [
    "sql_pitching_df = pd.read_sql(\n",
    "    \"SELECT * FROM pitching\",\n",
    "    con=engine,\n",
    ")\n",
    "print(sql_pitching_df)"
   ]
  },
  {
   "cell_type": "code",
   "execution_count": 5,
   "id": "7654c25d",
   "metadata": {},
   "outputs": [
    {
     "name": "stdout",
     "output_type": "stream",
     "text": [
      "            id   playerid  yearid  stint teamid  team_id lgid pos   g    gs  innouts   po   a     e  dp   pb  wp    sb    cs  zr\n",
      "0            1  abercda01    1871      1    TRO        8   NA  SS   1   1.0     24.0    1   3   2.0   0  NaN NaN   NaN   NaN NaN\n",
      "1            2   addybo01    1871      1    RC1        7   NA  2B  22  22.0    606.0   67  72  42.0   5  NaN NaN   NaN   NaN NaN\n",
      "2            3   addybo01    1871      1    RC1        7   NA  SS   3   3.0     96.0    8  14   7.0   0  NaN NaN   NaN   NaN NaN\n",
      "3            4  allisar01    1871      1    CL1        3   NA  2B   2   0.0     18.0    1   4   0.0   0  NaN NaN   NaN   NaN NaN\n",
      "4            5  allisar01    1871      1    CL1        3   NA  OF  29  29.0    729.0   51   3   7.0   1  NaN NaN   NaN   NaN NaN\n",
      "...        ...        ...     ...    ...    ...      ...  ...  ..  ..   ...      ...  ...  ..   ...  ..  ...  ..   ...   ...  ..\n",
      "143041  143042  zobribe01    2019      1    CHN     2901   NL  2B  32  23.0    558.0   36  54   3.0  16  NaN NaN   NaN   NaN NaN\n",
      "143042  143043  zobribe01    2019      1    CHN     2901   NL  OF  17  14.0    341.0   22   2   0.0   0  NaN NaN   NaN   NaN NaN\n",
      "143043  143044  zobribe01    2019      1    CHN     2901   NL   P   1   0.0      3.0    0   0   0.0   0  NaN NaN   NaN   NaN NaN\n",
      "143044  143045  zobribe01    2019      1    CHN     2901   NL  SS   1   0.0      6.0    0   0   0.0   0  NaN NaN   NaN   NaN NaN\n",
      "143045  143046  zuninmi01    2019      1    TBA     2922   AL   C  89  78.0   2069.0  764  37   6.0   7  4.0 NaN  27.0  17.0 NaN\n",
      "\n",
      "[143046 rows x 20 columns]\n"
     ]
    }
   ],
   "source": [
    "sql_fielding_df = pd.read_sql(\n",
    "    \"SELECT * FROM fielding\",\n",
    "    con=engine,\n",
    ")\n",
    "print(sql_fielding_df)"
   ]
  },
  {
   "cell_type": "markdown",
   "id": "1a898c5f",
   "metadata": {},
   "source": [
    "## Handing Out Awards\n",
    "\n",
    "Now that we’ve got a sense of what the data looks like, let’s use SQL queries skills to\n",
    "\n",
    "### Heaviest Hitters\n",
    "\n",
    "Top 5 of teams with the highest average weight of its batters on a given year."
   ]
  },
  {
   "cell_type": "code",
   "execution_count": 6,
   "id": "bbc1d62f",
   "metadata": {},
   "outputs": [
    {
     "name": "stdout",
     "output_type": "stream",
     "text": [
      "                     name  avg_weight  yearid\n",
      "0       Chicago White Sox      221.33    2009\n",
      "1       Chicago White Sox      220.91    2014\n",
      "2       Chicago White Sox      219.74    2008\n",
      "3    Philadelphia Quakers      219.38    2015\n",
      "4  Philadelphia Blue Jays      219.38    2015\n"
     ]
    }
   ],
   "source": [
    "heaviest_hitters_df = pd.read_sql(\n",
    "    \"\"\"\n",
    "    select \n",
    "        teams.name,\n",
    "        round(avg(people.weight), 2) as avg_weight,\n",
    "        batting.yearID\n",
    "    from people\n",
    "    inner join batting \n",
    "        on batting.playerID = people.playerID\n",
    "    inner join teams\n",
    "        on batting.teamID = teams.teamID\n",
    "    group by \n",
    "        batting.yearID, \n",
    "        teams.name\n",
    "    order by 2 desc\n",
    "    limit 5;\n",
    "    \"\"\",\n",
    "    con=engine,\n",
    ")\n",
    "\n",
    "print(heaviest_hitters_df)\n"
   ]
  },
  {
   "cell_type": "markdown",
   "id": "4ccafa16",
   "metadata": {},
   "source": [
    "### Biggest Spenders\n",
    "\n",
    "Top 5 of teams with the largest total salary of all players in a given year."
   ]
  },
  {
   "cell_type": "code",
   "execution_count": 7,
   "id": "4bb7270f",
   "metadata": {},
   "outputs": [
    {
     "name": "stdout",
     "output_type": "stream",
     "text": [
      "                  name  total_salary  yearid\n",
      "0     New York Yankees   231978886.0    2013\n",
      "1  Los Angeles Dodgers   223362196.0    2013\n",
      "2     New York Yankees   222997792.0    2016\n",
      "3  Los Angeles Dodgers   221288380.0    2016\n",
      "4  Los Angeles Dodgers   217014600.0    2014\n"
     ]
    }
   ],
   "source": [
    "biggest_spenders_df = pd.read_sql(\n",
    "    \"\"\"\n",
    "    select \n",
    "        teams.name,\n",
    "        sum(salaries.salary) as total_salary,\n",
    "        salaries.yearID\n",
    "    from salaries\n",
    "    left join teams\n",
    "        on salaries.teamID = teams.teamID\n",
    "        and salaries.yearID = teams.yearID\n",
    "    group by \n",
    "        salaries.yearID, \n",
    "        teams.name\n",
    "    order by 2 desc\n",
    "    limit 5\n",
    "    \"\"\",\n",
    "    con=engine,\n",
    ")\n",
    "\n",
    "print(biggest_spenders_df)"
   ]
  },
  {
   "cell_type": "markdown",
   "id": "633405cd",
   "metadata": {},
   "source": [
    "### Most Bang For Their Buck in 2010\n",
    "    \n",
    "Top 5 of teams that had the smallest “cost per win” in 2010. \n",
    "\n",
    "Cost per win is determined by the total salary of the team divided by the number of wins in a given year. Note that we only look at one given year hear, namely 2010. This is because looking accross all years would give un unbalenced result since, due to inflation, teams from the 1900s spent much less money per win."
   ]
  },
  {
   "cell_type": "code",
   "execution_count": 8,
   "id": "b3666311",
   "metadata": {},
   "outputs": [
    {
     "name": "stdout",
     "output_type": "stream",
     "text": [
      "                   name      cost_per_win  total_salary  total_wins  yearid\n",
      "0         New York Mets  double precision   134422942.0        2212    2010\n",
      "1  Washington Nationals  double precision    61400000.0        2070    2010\n",
      "2    Pittsburgh Pirates  double precision    34943000.0        1539    2010\n",
      "3   St. Louis Cardinals  double precision    93540751.0        2150    2010\n",
      "4        Atlanta Braves  double precision    84423666.0        2457    2010\n"
     ]
    }
   ],
   "source": [
    "most_bang_for_buck_df = pd.read_sql(\n",
    "    \"\"\"\n",
    "    with salaries_2010 as (\n",
    "        select * from salaries\n",
    "        where yearID = 2010\n",
    "    ),\n",
    "    teams_2010 as (\n",
    "        select * from teams\n",
    "        where yearID = 2010\n",
    "    )\n",
    "    select \n",
    "        teams_2010.name,\n",
    "        pg_typeof(sum(salaries_2010.salary) / sum(teams_2010.W)) as cost_per_win,\n",
    "        sum(salaries_2010.salary) as total_salary,\n",
    "        sum(teams_2010.W) as total_wins,\n",
    "        salaries_2010.yearID\n",
    "    from salaries_2010\n",
    "    left join teams_2010\n",
    "    on salaries_2010.teamID = teams_2010.teamID\n",
    "    group by salaries_2010.yearID, teams_2010.name\n",
    "    order by 2 asc\n",
    "    limit 5\n",
    "    \"\"\",\n",
    "    con=engine,\n",
    ")\n",
    "\n",
    "print(most_bang_for_buck_df)"
   ]
  },
  {
   "cell_type": "code",
   "execution_count": null,
   "id": "988c0bf5",
   "metadata": {},
   "outputs": [],
   "source": []
  }
 ],
 "metadata": {
  "kernelspec": {
   "display_name": "Python 3",
   "language": "python",
   "name": "python3"
  },
  "language_info": {
   "codemirror_mode": {
    "name": "ipython",
    "version": 3
   },
   "file_extension": ".py",
   "mimetype": "text/x-python",
   "name": "python",
   "nbconvert_exporter": "python",
   "pygments_lexer": "ipython3",
   "version": "3.8.8"
  }
 },
 "nbformat": 4,
 "nbformat_minor": 5
}
